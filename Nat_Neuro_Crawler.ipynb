{
 "cells": [
  {
   "cell_type": "code",
   "execution_count": 188,
   "metadata": {},
   "outputs": [
    {
     "name": "stdout",
     "output_type": "stream",
     "text": [
      "200\n",
      "True\n"
     ]
    }
   ],
   "source": [
    "#!/usr/bin/python\n",
    "# -*- coding:utf-8 -*-\n",
    "# parser.py\n",
    "import csv\n",
    "import requests\n",
    "import bs4\n",
    "import datetime\n",
    "from setdate import upcoming_weekday # 내가 만든 초간단 라이브러리\n",
    "\n",
    "# 시간 설정\n",
    "datenow = datetime.datetime.now()\n",
    "upcoming_friday = upcoming_weekday(datenow, 4).date() #금요일 설정\n",
    "last_friday = upcoming_thursday - datetime.timedelta(7) #범위 시작 설정\n",
    "upcoming_thursday = upcoming_weekday(datenow, 3).date() #범위 끝 설정\n",
    "\n",
    "# HTTP GET Request\n",
    "req = requests.get('http://www.nature.com/neuro/research')\n",
    "\n",
    "# HTML 소스 가져오기\n",
    "html = req.text\n",
    "# HTTP Header 가져오기\n",
    "header = req.headers\n",
    "# HTTP Status 가져오기 (200: 정상)\n",
    "status = req.status_code\n",
    "print(status)\n",
    "# HTTP가 정상적으로 되었는지 (True/False)\n",
    "is_ok = req.ok\n",
    "print(is_ok)\n",
    "\n",
    "# 파싱 시작\n",
    "soup = bs4.BeautifulSoup(html,'html.parser')\n",
    "\n",
    "# Article 항목 불러오기\n",
    "articles = soup.select('article')\n",
    "\n",
    "# CSV 파일로 만들기\n",
    "f = open(upcoming_friday.strftime('%Y%m%d')+'_Nat_Neuro.csv', 'w', encoding='utf-8')\n",
    "wr = csv.writer(f)\n",
    "for article in articles:\n",
    "\n",
    "    # 크롤링 범위에 있는지 검토 (최근 1주일만 크롤링)\n",
    "    PubDateNum = article.find(\"time\")['datetime'],\n",
    "    DATE = datetime.datetime.strptime(PubDateNum[0], '%Y-%m-%d').date()\n",
    "    if not last_friday<DATE<upcoming_thursday:\n",
    "        continue\n",
    "\n",
    "    # 아티클 타입 추출 및 검토 (Correction type 제외)\n",
    "    Type = article.find(\"span\", attrs={\"data-test\": \"article.type\"}).text,\n",
    "    if Type[0].find('Correction') != -1:\n",
    "        continue\n",
    "    \n",
    "    # 아티클 출판일\n",
    "    PubDateStr = article.find(\"time\").text,\n",
    "    \n",
    "    # 아티클 제목\n",
    "    Title = article.find(\"a\").text.replace('\\n','').replace('  ',''),\n",
    "    \n",
    "    # 아티클 설명\n",
    "    Description = article.find(\"div\", attrs={\"itemprop\":\"description\"}).text.replace('\\n',''),\n",
    "\n",
    "\n",
    "    wr.writerow([Type[0], PubDateStr[0],Title[0],Description[0]])\n",
    "f.close()  \n",
    "    "
   ]
  }
 ],
 "metadata": {
  "kernelspec": {
   "display_name": "Python 3",
   "language": "python",
   "name": "python3"
  },
  "language_info": {
   "codemirror_mode": {
    "name": "ipython",
    "version": 3
   },
   "file_extension": ".py",
   "mimetype": "text/x-python",
   "name": "python",
   "nbconvert_exporter": "python",
   "pygments_lexer": "ipython3",
   "version": "3.5.4"
  }
 },
 "nbformat": 4,
 "nbformat_minor": 2
}
